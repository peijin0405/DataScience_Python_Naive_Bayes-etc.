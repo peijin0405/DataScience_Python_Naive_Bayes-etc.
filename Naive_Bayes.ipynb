{
 "cells": [
  {
   "cell_type": "markdown",
   "id": "b001be42",
   "metadata": {},
   "source": [
    "Naive_Bayes"
   ]
  },
  {
   "cell_type": "code",
   "execution_count": 1,
   "id": "41744de4",
   "metadata": {},
   "outputs": [],
   "source": [
    "import pandas as pd\n",
    "import numpy as np\n",
    "import pprint as pp # for printing\n",
    "import scipy.stats as st # for Normal PDF\n",
    "# Silence warnings \n",
    "import warnings\n",
    "warnings.filterwarnings(\"ignore\")"
   ]
  },
  {
   "cell_type": "code",
   "execution_count": 2,
   "id": "30c33fa5",
   "metadata": {},
   "outputs": [],
   "source": [
    "turnout_data = pd.read_csv(\"turnout.csv\")# read in data"
   ]
  },
  {
   "cell_type": "code",
   "execution_count": 3,
   "id": "a88a3171",
   "metadata": {},
   "outputs": [],
   "source": [
    "# Train-Test split (just using Pandas)\n",
    "train = turnout_data.sample(frac=.8).reset_index(drop=True)\n",
    "test = turnout_data.drop(train.index).reset_index(drop=True)"
   ]
  },
  {
   "cell_type": "code",
   "execution_count": 4,
   "id": "0ec441fc",
   "metadata": {},
   "outputs": [
    {
     "name": "stdout",
     "output_type": "stream",
     "text": [
      "Training Data: 1600 \n",
      "Test Data: 400\n"
     ]
    },
    {
     "data": {
      "text/html": [
       "<div>\n",
       "<style scoped>\n",
       "    .dataframe tbody tr th:only-of-type {\n",
       "        vertical-align: middle;\n",
       "    }\n",
       "\n",
       "    .dataframe tbody tr th {\n",
       "        vertical-align: top;\n",
       "    }\n",
       "\n",
       "    .dataframe thead th {\n",
       "        text-align: right;\n",
       "    }\n",
       "</style>\n",
       "<table border=\"1\" class=\"dataframe\">\n",
       "  <thead>\n",
       "    <tr style=\"text-align: right;\">\n",
       "      <th></th>\n",
       "      <th>id</th>\n",
       "      <th>age</th>\n",
       "      <th>educate</th>\n",
       "      <th>income</th>\n",
       "      <th>vote</th>\n",
       "      <th>white</th>\n",
       "    </tr>\n",
       "  </thead>\n",
       "  <tbody>\n",
       "    <tr>\n",
       "      <th>0</th>\n",
       "      <td>39</td>\n",
       "      <td>84</td>\n",
       "      <td>8.0</td>\n",
       "      <td>0.7294</td>\n",
       "      <td>0</td>\n",
       "      <td>1</td>\n",
       "    </tr>\n",
       "    <tr>\n",
       "      <th>1</th>\n",
       "      <td>1753</td>\n",
       "      <td>79</td>\n",
       "      <td>8.0</td>\n",
       "      <td>1.2610</td>\n",
       "      <td>1</td>\n",
       "      <td>1</td>\n",
       "    </tr>\n",
       "    <tr>\n",
       "      <th>2</th>\n",
       "      <td>796</td>\n",
       "      <td>60</td>\n",
       "      <td>12.0</td>\n",
       "      <td>7.0281</td>\n",
       "      <td>1</td>\n",
       "      <td>1</td>\n",
       "    </tr>\n",
       "    <tr>\n",
       "      <th>3</th>\n",
       "      <td>1849</td>\n",
       "      <td>19</td>\n",
       "      <td>12.0</td>\n",
       "      <td>2.5196</td>\n",
       "      <td>0</td>\n",
       "      <td>1</td>\n",
       "    </tr>\n",
       "    <tr>\n",
       "      <th>4</th>\n",
       "      <td>141</td>\n",
       "      <td>23</td>\n",
       "      <td>12.0</td>\n",
       "      <td>4.0006</td>\n",
       "      <td>0</td>\n",
       "      <td>1</td>\n",
       "    </tr>\n",
       "  </tbody>\n",
       "</table>\n",
       "</div>"
      ],
      "text/plain": [
       "     id  age  educate  income  vote  white\n",
       "0    39   84      8.0  0.7294     0      1\n",
       "1  1753   79      8.0  1.2610     1      1\n",
       "2   796   60     12.0  7.0281     1      1\n",
       "3  1849   19     12.0  2.5196     0      1\n",
       "4   141   23     12.0  4.0006     0      1"
      ]
     },
     "execution_count": 4,
     "metadata": {},
     "output_type": "execute_result"
    }
   ],
   "source": [
    "# Print off the split count \n",
    "print(\"Training Data:\",train.shape[0],\n",
    "      \"\\nTest Data:\",test.shape[0])\n",
    "# Look at the head of the data\n",
    "train.head()"
   ]
  },
  {
   "cell_type": "markdown",
   "id": "f1dc72b7",
   "metadata": {},
   "source": [
    "Coding below follows these five steps:\n",
    "1.\tCalculating class probabilities, the proportion of people vote and not vote;\n",
    "2.\tCalculating conditional probabilities, including the probabilities of three continuous variables(age, educate, income) and one dichotomous variable(white);\n",
    "3.\tMultiplying conditional probabilities and predicting a single observation to test;\n",
    "4.\tConducting a function to predicting multiple observations;\n",
    "5.\tExamining the predictive accuracy. \n"
   ]
  },
  {
   "cell_type": "markdown",
   "id": "525baa91",
   "metadata": {},
   "source": [
    "Calculate Class Probabilities: Pr(class)"
   ]
  },
  {
   "cell_type": "code",
   "execution_count": 5,
   "id": "48f272fd",
   "metadata": {},
   "outputs": [
    {
     "name": "stdout",
     "output_type": "stream",
     "text": [
      "\n",
      "Pr(vote = 1): 0.745625\n",
      "Pr(vote = 0): 0.254375\n",
      "\n"
     ]
    }
   ],
   "source": [
    "N = train.shape[0]##count the number of the obs\n",
    "vote1 = train.query(\"vote == 1\")# Subset the data by class\n",
    "vote0 = train.query(\"vote == 0\")\n",
    "pr_vote1 = vote1.shape[0]/N# Calculate the probability for each class\n",
    "pr_vote0 = vote0.shape[0]/N\n",
    "\n",
    "# Print the probabilities\n",
    "print(\n",
    "f\"\"\"\n",
    "Pr(vote = 1): {pr_vote1}\n",
    "Pr(vote = 0): {pr_vote0}\n",
    "\"\"\")"
   ]
  },
  {
   "cell_type": "markdown",
   "id": "b3cc05fc",
   "metadata": {},
   "source": [
    "Calculate the Conditional Probabilities Pr(data|class)"
   ]
  },
  {
   "cell_type": "code",
   "execution_count": 6,
   "id": "232b63e8",
   "metadata": {},
   "outputs": [
    {
     "name": "stdout",
     "output_type": "stream",
     "text": [
      "\n",
      "Pr(white  = 1 |vote = 1): 0.8725901089689857\n",
      "Pr(white  = 0 |vote = 1): 0.12740989103101424\n",
      "Pr(white  = 1 |vote = 0): 0.7911547911547911\n",
      "Pr(white  = 0 |vote = 0): 0.20884520884520885\n",
      "\n"
     ]
    }
   ],
   "source": [
    "##Calculate the Conditional Probabilities of each category \n",
    "# Given vote == 1\n",
    "w1_vote1 = vote1.query(\"white == 1\").shape[0]/vote1.shape[0]\n",
    "w0_vote1 = vote1.query(\"white == 0\").shape[0]/vote1.shape[0]\n",
    "\n",
    "# Given vote == 0\n",
    "w1_vote0 = vote0.query(\"white == 1\").shape[0]/vote0.shape[0]\n",
    "w0_vote0 = vote0.query(\"white == 0\").shape[0]/vote0.shape[0]\n",
    "\n",
    "print(\n",
    "f\"\"\"\n",
    "Pr(white  = 1 |vote = 1): {w1_vote1}\n",
    "Pr(white  = 0 |vote = 1): {w0_vote1}\n",
    "Pr(white  = 1 |vote = 0): {w1_vote0}\n",
    "Pr(white  = 0 |vote = 0): {w0_vote0}\n",
    "\"\"\")"
   ]
  },
  {
   "cell_type": "markdown",
   "id": "fc8d336c",
   "metadata": {},
   "source": [
    "Calculate the conditional means/standard deviations"
   ]
  },
  {
   "cell_type": "code",
   "execution_count": 7,
   "id": "a2df018d",
   "metadata": {
    "scrolled": true
   },
   "outputs": [
    {
     "name": "stdout",
     "output_type": "stream",
     "text": [
      "{('age', 0): {'mean': 42.877149877149876, 'sd': 17.13586303303239},\n",
      " ('age', 1): {'mean': 46.37720033528919, 'sd': 17.13586303303239},\n",
      " ('educate', 0): {'mean': 10.683046683046683, 'sd': 3.2192512906263717},\n",
      " ('educate', 1): {'mean': 12.523889354568315, 'sd': 3.2773845196682103},\n",
      " ('income', 0): {'mean': 2.7481523341523357, 'sd': 2.1832954586793467},\n",
      " ('income', 1): {'mean': 4.259036714165972, 'sd': 2.894163368699968}}\n"
     ]
    }
   ],
   "source": [
    "# Collect the mean and standard dev. of each conditional distribution\n",
    "dist_locs = \\\n",
    "{(\"age\",1):{'mean':vote1.age.mean(),'sd':vote1.age.std()},\n",
    " (\"age\",0):{'mean':vote0.age.mean(),'sd':vote1.age.std()},\n",
    " (\"educate\",1):{'mean':vote1.educate.mean(),'sd':vote1.educate.std()},\n",
    " (\"educate\",0):{'mean':vote0.educate.mean(),'sd':vote0.educate.std()},\n",
    " (\"income\",1):{'mean':vote1.income.mean(),'sd':vote1.income.std()},\n",
    " (\"income\",0):{'mean':vote0.income.mean(),'sd':vote0.income.std()}\n",
    "}\n",
    "pp.pprint(dist_locs)# Print"
   ]
  },
  {
   "cell_type": "markdown",
   "id": "35a9743c",
   "metadata": {},
   "source": [
    "Predicting a single observation"
   ]
  },
  {
   "cell_type": "code",
   "execution_count": 8,
   "id": "4a06cd8a",
   "metadata": {},
   "outputs": [
    {
     "name": "stdout",
     "output_type": "stream",
     "text": [
      "1753.0 79.0 8.0 1.261 1.0 1.0\n"
     ]
    }
   ],
   "source": [
    "code,age,educate,income,vote,white  = train.iloc[1,:]##take the first ob as an example \n",
    "print(code,age,educate,income,vote,white )"
   ]
  },
  {
   "cell_type": "code",
   "execution_count": 9,
   "id": "7ad28528",
   "metadata": {},
   "outputs": [
    {
     "name": "stdout",
     "output_type": "stream",
     "text": [
      "\n",
      "    Pr(vote == 1| X): 9.361297601634305e-06\n",
      "    Pr(vote == 0| X): 6.4440033935001505e-06\n",
      "\n"
     ]
    }
   ],
   "source": [
    "# Prediction for the 1 class\n",
    "a = st.norm(dist_locs[(\"age\",1)]['mean'], dist_locs[(\"age\",1)]['sd']).pdf(age)\n",
    "b = st.norm(dist_locs[(\"educate\",1)]['mean'], dist_locs[(\"educate\",1)]['sd']).pdf(educate)\n",
    "c = st.norm(dist_locs[(\"income\",1)]['mean'], dist_locs[(\"income\",1)]['sd']).pdf(income)\n",
    "d = w1_vote1 \n",
    "e = pr_vote1\n",
    "pr_1 = a * b * c * d * e\n",
    "\n",
    "# Prediction for the 0 class\n",
    "a = st.norm(dist_locs[(\"age\",0)]['mean'], dist_locs[(\"age\",0)]['sd']).pdf(age)\n",
    "b = st.norm(dist_locs[(\"educate\",0)]['mean'], dist_locs[(\"educate\",0)]['sd']).pdf(educate)\n",
    "c = st.norm(dist_locs[(\"income\",0)]['mean'], dist_locs[(\"income\",0)]['sd']).pdf(income)\n",
    "d = w1_vote0\n",
    "e = pr_vote0\n",
    "pr_0 =  a * b * c * d * e\n",
    "\n",
    "print(\n",
    "f'''\n",
    "    Pr(vote == 1| X): {pr_1}\n",
    "    Pr(vote == 0| X): {pr_0}\n",
    "''')"
   ]
  },
  {
   "cell_type": "markdown",
   "id": "30c91908",
   "metadata": {},
   "source": [
    " 0.00011 is greater than 4.3575944751434353e-05, so we predict that vote=1"
   ]
  },
  {
   "cell_type": "markdown",
   "id": "3b50c8e3",
   "metadata": {},
   "source": [
    "Predicting multiple observations"
   ]
  },
  {
   "cell_type": "code",
   "execution_count": 10,
   "id": "ba5e9d29",
   "metadata": {},
   "outputs": [],
   "source": [
    "def predict(data,dist_locs):\n",
    "    '''\n",
    "    Function multiplys the conditional probabilities of the continuous variable with the conditional probabilities of the binary variable to predicte. The results is defined by the higher probability.\n",
    "    -----\n",
    "    Arguments:\n",
    "    data is the dataset(with three continuous variables in the front of row ) need working on\n",
    "    dist_locs is the dictionary containing the conditional probabilities of the continuous variables\n",
    "    -----\n",
    "    Results:\n",
    "    A df containing the predicted result of each respondent will be returned \n",
    "    \n",
    "    '''\n",
    "    store_preds = []##create a null list to store data \n",
    "    for i,row in data.iterrows():\n",
    "        \n",
    "        # Get the predictions using a Gaussan distribution\n",
    "        pr_0 = 1; pr_1 = 1##assign  pr_0 and pr_1 to a value \n",
    "        for j in range(1,4):##interate through the three continuous variables\n",
    "\n",
    "            pr_0 *= st.norm(dist_locs[(row.index[j],0)]['mean'],\n",
    "                            dist_locs[(row.index[j],0)]['sd']).pdf(row.values[j])\n",
    "            pr_1 *= st.norm(dist_locs[(row.index[j],1)]['mean'], \n",
    "                            dist_locs[(row.index[j],1)]['sd']).pdf(row.values[j])\n",
    "        #take the race(white==1) into consideration\n",
    "        if(row[\"white\"]==1):\n",
    "            pr_0*=w1_vote0\n",
    "        else:\n",
    "            pr_0*=w0_vote0\n",
    "    \n",
    "        if(row[\"white\"]==1):\n",
    "            pr_1*=w1_vote1\n",
    "        else:\n",
    "            pr_1*=w0_vote1\n",
    "        pr_0 *= pr_vote0##multiply conditional probabilities of all variables \n",
    "        pr_1 *= pr_vote1\n",
    "        # Assign the class designation to the highest probability\n",
    "        if pr_0 >= pr_1:\n",
    "            class_pred = 0\n",
    "        else:\n",
    "            class_pred = 1\n",
    "        ## iterate through each observation \n",
    "        store_preds.append([pr_0,pr_1,class_pred])\n",
    "        ##store the list as a df \n",
    "    return pd.DataFrame(store_preds,columns=[\"pr_0\",\"pr_1\",\"prediction\"])"
   ]
  },
  {
   "cell_type": "code",
   "execution_count": 11,
   "id": "ab698bcf",
   "metadata": {},
   "outputs": [],
   "source": [
    "# Run this function on train dataset\n",
    "preds_train = predict(train,dist_locs)"
   ]
  },
  {
   "cell_type": "code",
   "execution_count": 12,
   "id": "7d364bf9",
   "metadata": {
    "scrolled": true
   },
   "outputs": [
    {
     "data": {
      "text/html": [
       "<div>\n",
       "<style scoped>\n",
       "    .dataframe tbody tr th:only-of-type {\n",
       "        vertical-align: middle;\n",
       "    }\n",
       "\n",
       "    .dataframe tbody tr th {\n",
       "        vertical-align: top;\n",
       "    }\n",
       "\n",
       "    .dataframe thead th {\n",
       "        text-align: right;\n",
       "    }\n",
       "</style>\n",
       "<table border=\"1\" class=\"dataframe\">\n",
       "  <thead>\n",
       "    <tr style=\"text-align: right;\">\n",
       "      <th></th>\n",
       "      <th>pr_0</th>\n",
       "      <th>pr_1</th>\n",
       "      <th>prediction</th>\n",
       "    </tr>\n",
       "  </thead>\n",
       "  <tbody>\n",
       "    <tr>\n",
       "      <th>0</th>\n",
       "      <td>0.000003</td>\n",
       "      <td>0.000004</td>\n",
       "      <td>1</td>\n",
       "    </tr>\n",
       "    <tr>\n",
       "      <th>1</th>\n",
       "      <td>0.000006</td>\n",
       "      <td>0.000009</td>\n",
       "      <td>1</td>\n",
       "    </tr>\n",
       "    <tr>\n",
       "      <th>2</th>\n",
       "      <td>0.000009</td>\n",
       "      <td>0.000116</td>\n",
       "      <td>1</td>\n",
       "    </tr>\n",
       "    <tr>\n",
       "      <th>3</th>\n",
       "      <td>0.000037</td>\n",
       "      <td>0.000058</td>\n",
       "      <td>1</td>\n",
       "    </tr>\n",
       "    <tr>\n",
       "      <th>4</th>\n",
       "      <td>0.000042</td>\n",
       "      <td>0.000099</td>\n",
       "      <td>1</td>\n",
       "    </tr>\n",
       "    <tr>\n",
       "      <th>5</th>\n",
       "      <td>0.000008</td>\n",
       "      <td>0.000006</td>\n",
       "      <td>0</td>\n",
       "    </tr>\n",
       "    <tr>\n",
       "      <th>6</th>\n",
       "      <td>0.000037</td>\n",
       "      <td>0.000109</td>\n",
       "      <td>1</td>\n",
       "    </tr>\n",
       "    <tr>\n",
       "      <th>7</th>\n",
       "      <td>0.000072</td>\n",
       "      <td>0.000155</td>\n",
       "      <td>1</td>\n",
       "    </tr>\n",
       "    <tr>\n",
       "      <th>8</th>\n",
       "      <td>0.000002</td>\n",
       "      <td>0.000011</td>\n",
       "      <td>1</td>\n",
       "    </tr>\n",
       "    <tr>\n",
       "      <th>9</th>\n",
       "      <td>0.000004</td>\n",
       "      <td>0.000078</td>\n",
       "      <td>1</td>\n",
       "    </tr>\n",
       "  </tbody>\n",
       "</table>\n",
       "</div>"
      ],
      "text/plain": [
       "       pr_0      pr_1  prediction\n",
       "0  0.000003  0.000004           1\n",
       "1  0.000006  0.000009           1\n",
       "2  0.000009  0.000116           1\n",
       "3  0.000037  0.000058           1\n",
       "4  0.000042  0.000099           1\n",
       "5  0.000008  0.000006           0\n",
       "6  0.000037  0.000109           1\n",
       "7  0.000072  0.000155           1\n",
       "8  0.000002  0.000011           1\n",
       "9  0.000004  0.000078           1"
      ]
     },
     "execution_count": 12,
     "metadata": {},
     "output_type": "execute_result"
    }
   ],
   "source": [
    "# Predicted output\n",
    "preds_train.head(10)"
   ]
  },
  {
   "cell_type": "code",
   "execution_count": 13,
   "id": "c9e0c9b7",
   "metadata": {},
   "outputs": [],
   "source": [
    "# Run this function on test dataset\n",
    "preds_test = predict(test,dist_locs)"
   ]
  },
  {
   "cell_type": "code",
   "execution_count": 14,
   "id": "87247156",
   "metadata": {},
   "outputs": [
    {
     "data": {
      "text/html": [
       "<div>\n",
       "<style scoped>\n",
       "    .dataframe tbody tr th:only-of-type {\n",
       "        vertical-align: middle;\n",
       "    }\n",
       "\n",
       "    .dataframe tbody tr th {\n",
       "        vertical-align: top;\n",
       "    }\n",
       "\n",
       "    .dataframe thead th {\n",
       "        text-align: right;\n",
       "    }\n",
       "</style>\n",
       "<table border=\"1\" class=\"dataframe\">\n",
       "  <thead>\n",
       "    <tr style=\"text-align: right;\">\n",
       "      <th></th>\n",
       "      <th>pr_0</th>\n",
       "      <th>pr_1</th>\n",
       "      <th>prediction</th>\n",
       "    </tr>\n",
       "  </thead>\n",
       "  <tbody>\n",
       "    <tr>\n",
       "      <th>0</th>\n",
       "      <td>4.852352e-06</td>\n",
       "      <td>1.405099e-05</td>\n",
       "      <td>1</td>\n",
       "    </tr>\n",
       "    <tr>\n",
       "      <th>1</th>\n",
       "      <td>2.125352e-05</td>\n",
       "      <td>1.800422e-04</td>\n",
       "      <td>1</td>\n",
       "    </tr>\n",
       "    <tr>\n",
       "      <th>2</th>\n",
       "      <td>2.880943e-05</td>\n",
       "      <td>6.886168e-05</td>\n",
       "      <td>1</td>\n",
       "    </tr>\n",
       "    <tr>\n",
       "      <th>3</th>\n",
       "      <td>8.178879e-05</td>\n",
       "      <td>1.846673e-04</td>\n",
       "      <td>1</td>\n",
       "    </tr>\n",
       "    <tr>\n",
       "      <th>4</th>\n",
       "      <td>1.521429e-06</td>\n",
       "      <td>4.225693e-05</td>\n",
       "      <td>1</td>\n",
       "    </tr>\n",
       "    <tr>\n",
       "      <th>5</th>\n",
       "      <td>5.308303e-05</td>\n",
       "      <td>8.238336e-05</td>\n",
       "      <td>1</td>\n",
       "    </tr>\n",
       "    <tr>\n",
       "      <th>6</th>\n",
       "      <td>5.871399e-08</td>\n",
       "      <td>1.426364e-08</td>\n",
       "      <td>0</td>\n",
       "    </tr>\n",
       "    <tr>\n",
       "      <th>7</th>\n",
       "      <td>4.177934e-05</td>\n",
       "      <td>7.502138e-05</td>\n",
       "      <td>1</td>\n",
       "    </tr>\n",
       "    <tr>\n",
       "      <th>8</th>\n",
       "      <td>9.441503e-06</td>\n",
       "      <td>7.916607e-06</td>\n",
       "      <td>0</td>\n",
       "    </tr>\n",
       "    <tr>\n",
       "      <th>9</th>\n",
       "      <td>3.427757e-05</td>\n",
       "      <td>1.071699e-04</td>\n",
       "      <td>1</td>\n",
       "    </tr>\n",
       "  </tbody>\n",
       "</table>\n",
       "</div>"
      ],
      "text/plain": [
       "           pr_0          pr_1  prediction\n",
       "0  4.852352e-06  1.405099e-05           1\n",
       "1  2.125352e-05  1.800422e-04           1\n",
       "2  2.880943e-05  6.886168e-05           1\n",
       "3  8.178879e-05  1.846673e-04           1\n",
       "4  1.521429e-06  4.225693e-05           1\n",
       "5  5.308303e-05  8.238336e-05           1\n",
       "6  5.871399e-08  1.426364e-08           0\n",
       "7  4.177934e-05  7.502138e-05           1\n",
       "8  9.441503e-06  7.916607e-06           0\n",
       "9  3.427757e-05  1.071699e-04           1"
      ]
     },
     "execution_count": 14,
     "metadata": {},
     "output_type": "execute_result"
    }
   ],
   "source": [
    "# Predicted output\n",
    "preds_test.head(10)"
   ]
  },
  {
   "cell_type": "markdown",
   "id": "5898a7c0",
   "metadata": {},
   "source": [
    "Examine the predictive accuracy of the training data."
   ]
  },
  {
   "cell_type": "code",
   "execution_count": 15,
   "id": "55497199",
   "metadata": {
    "scrolled": true
   },
   "outputs": [
    {
     "data": {
      "text/plain": [
       "0.736875"
      ]
     },
     "execution_count": 15,
     "metadata": {},
     "output_type": "execute_result"
    }
   ],
   "source": [
    "accuracy_train = sum(train.vote == preds_train.prediction)/train.shape[0]##Examine the predictive accuracy of the training data.\n",
    "accuracy_train"
   ]
  },
  {
   "cell_type": "markdown",
   "id": "34f8d1e0",
   "metadata": {},
   "source": [
    "Examine the predictive accuracy on the test data."
   ]
  },
  {
   "cell_type": "code",
   "execution_count": 16,
   "id": "9f5fc48c",
   "metadata": {},
   "outputs": [
    {
     "data": {
      "text/plain": [
       "0.7125"
      ]
     },
     "execution_count": 16,
     "metadata": {},
     "output_type": "execute_result"
    }
   ],
   "source": [
    "accuracy_test = sum(test.vote == preds_test.prediction)/test.shape[0]##Examine the predictive accuracy on the test data.\n",
    "accuracy_test"
   ]
  },
  {
   "cell_type": "markdown",
   "id": "a57d62f7",
   "metadata": {},
   "source": [
    "In a nut shell, with an accuracy of 70.5% on the test data, the prediction performs better than chance(coin flip), which would be 50%."
   ]
  }
 ],
 "metadata": {
  "kernelspec": {
   "display_name": "Python 3",
   "language": "python",
   "name": "python3"
  },
  "language_info": {
   "codemirror_mode": {
    "name": "ipython",
    "version": 3
   },
   "file_extension": ".py",
   "mimetype": "text/x-python",
   "name": "python",
   "nbconvert_exporter": "python",
   "pygments_lexer": "ipython3",
   "version": "3.8.8"
  }
 },
 "nbformat": 4,
 "nbformat_minor": 5
}
