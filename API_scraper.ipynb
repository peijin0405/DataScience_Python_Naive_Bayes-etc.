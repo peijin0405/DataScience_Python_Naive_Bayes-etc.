{
 "cells": [
  {
   "cell_type": "markdown",
   "id": "bb8ec8f7",
   "metadata": {},
   "source": [
    "# Problem set 1 \n",
    "Peijin Li"
   ]
  },
  {
   "cell_type": "markdown",
   "id": "d9179374",
   "metadata": {},
   "source": [
    "### Part 1\n",
    "scrape the homepage for Project Gutenberg at http://www.gutenberg.org/"
   ]
  },
  {
   "cell_type": "markdown",
   "id": "357db023",
   "metadata": {},
   "source": [
    "1.Review the source code of the webpage. List three of the types of HTML tags you found on the page and explain what elements of the page are created by those tags."
   ]
  },
  {
   "cell_type": "markdown",
   "id": "31e3def8",
   "metadata": {},
   "source": [
    "1)div:The div tag defines a division or a section in an HTML document. HTML 5 segregates between the section, article, and other parts of a page, whereas in HTML 4 and before, this tag was used substantially to section and structure the page.\n",
    "2)li:The li tag defines a list item, and is used in ordered lists (ol), unordered lists (ul), and in menu lists (menu).\n",
    "3)link:As the name states, this tag creates a link with an external source. It can be a file of any format."
   ]
  },
  {
   "cell_type": "markdown",
   "id": "f368f67f",
   "metadata": {},
   "source": [
    "2.Request the contents of the webpage and display the HTTP response code for the request."
   ]
  },
  {
   "cell_type": "code",
   "execution_count": 1,
   "id": "ca245da5",
   "metadata": {},
   "outputs": [],
   "source": [
    "##Import requests library\n",
    "import requests"
   ]
  },
  {
   "cell_type": "code",
   "execution_count": 2,
   "id": "4af0b5f0",
   "metadata": {},
   "outputs": [
    {
     "data": {
      "text/plain": [
       "200"
      ]
     },
     "execution_count": 2,
     "metadata": {},
     "output_type": "execute_result"
    }
   ],
   "source": [
    "url = \"http://www.gutenberg.org/\"\n",
    "page = requests.get(url)##Request the contents of the webpage \n",
    "page.status_code##==200 means successful"
   ]
  },
  {
   "cell_type": "markdown",
   "id": "b5d66eac",
   "metadata": {},
   "source": [
    "3.Display a list of instances containing “h2” tags."
   ]
  },
  {
   "cell_type": "code",
   "execution_count": 3,
   "id": "c02833f2",
   "metadata": {},
   "outputs": [],
   "source": [
    "from bs4 import BeautifulSoup # For parsing the website"
   ]
  },
  {
   "cell_type": "code",
   "execution_count": 4,
   "id": "d8c58dd4",
   "metadata": {},
   "outputs": [],
   "source": [
    "# Parse the content \n",
    "soup = BeautifulSoup(page.text, 'lxml')"
   ]
  },
  {
   "cell_type": "code",
   "execution_count": 5,
   "id": "5576cf42",
   "metadata": {},
   "outputs": [],
   "source": [
    "#soup##a soup object"
   ]
  },
  {
   "cell_type": "code",
   "execution_count": 6,
   "id": "a98154a3",
   "metadata": {
    "scrolled": false
   },
   "outputs": [
    {
     "name": "stdout",
     "output_type": "stream",
     "text": [
      "[<h2 class=\"subtitle\">Project Gutenberg is a library of over 60,000 free eBooks</h2>, <h2 id=\"find-free-ebooks\">Find Free eBooks</h2>, <h2 id=\"get-help\">Get Help</h2>, <h2 id=\"how-to-help\">How to Help</h2>, <h2 id=\"special-areas\">Special Areas</h2>, <h2 id=\"terms-of-use\">Terms of Use</h2>, <h2 id=\"social-media\">Social Media</h2>]\n"
     ]
    }
   ],
   "source": [
    "# With the above in hand, we can find all instances of a tag at once.\n",
    "print(soup.find_all('h2')) # get all 'h2'(returns a list)"
   ]
  },
  {
   "cell_type": "markdown",
   "id": "2ff06b5b",
   "metadata": {},
   "source": [
    "4.Display a list of all text included within bullet points."
   ]
  },
  {
   "cell_type": "code",
   "execution_count": 7,
   "id": "3a46c7f6",
   "metadata": {},
   "outputs": [
    {
     "data": {
      "text/plain": [
       "<ul>\n",
       "<li><a href=\"/ebooks/\">Search and browse</a>. By author, title, subject, language, type, popularity, and more.</li>\n",
       "<li><a href=\"/ebooks/bookshelf/\">Bookshelves</a> of related eBooks.</li>\n",
       "<li><a href=\"/browse/scores/top\">Frequently downloaded</a>: Top 100, or ranked <a href=\"/ebooks/search/?sort_order=downloads\">by popularity</a>.</li>\n",
       "<li><a href=\"/ebooks/offline_catalogs.html\">Offline catalogs</a>: handy eBook listings and metadata to consult offline.</li>\n",
       "<li><a href=\"/ebooks/search/?query=&amp;submit_search=Search&amp;sort_order=release_date\">Recently added</a>. The latest new and updated eBooks.</li>\n",
       "<li>Visit <a href=\"http://self.gutenberg.org\">self.gutenberg.org</a> for free eBooks by contemporary authors.</li>\n",
       "</ul>"
      ]
     },
     "execution_count": 7,
     "metadata": {},
     "output_type": "execute_result"
    }
   ],
   "source": [
    "##Get one bullet point\n",
    "soup.find(\"div\", {\"class\":\"page_content\"}).find(\"ul\")"
   ]
  },
  {
   "cell_type": "code",
   "execution_count": 8,
   "id": "3f6d8b78",
   "metadata": {},
   "outputs": [
    {
     "data": {
      "text/plain": [
       "'Search and browse. By author, title, subject, language, type, popularity, and more.'"
      ]
     },
     "execution_count": 8,
     "metadata": {},
     "output_type": "execute_result"
    }
   ],
   "source": [
    "soup.find(\"div\", {\"class\":\"page_content\"}).find(\"ul\").find(\"li\").text"
   ]
  },
  {
   "cell_type": "code",
   "execution_count": 9,
   "id": "0c5f4171",
   "metadata": {
    "scrolled": true
   },
   "outputs": [],
   "source": [
    "##Get multiple bullet points\n",
    "##a locate all the \"li\"s\n",
    "bullet_points = soup.find(\"div\", {\"class\":\"page_content\"}).find_all(\"li\")\n",
    "#bullet_points"
   ]
  },
  {
   "cell_type": "code",
   "execution_count": 10,
   "id": "ffae74fe",
   "metadata": {
    "scrolled": true
   },
   "outputs": [
    {
     "name": "stdout",
     "output_type": "stream",
     "text": [
      "Search and browse. By author, title, subject, language, type, popularity, and more.\n",
      "Bookshelves of related eBooks.\n",
      "Frequently downloaded: Top 100, or ranked by popularity.\n",
      "Offline catalogs: handy eBook listings and metadata to consult offline.\n",
      "Recently added. The latest new and updated eBooks.\n",
      "Visit self.gutenberg.org for free eBooks by contemporary authors.\n",
      "Frequently Asked Questions about Project Gutenberg.\n",
      "Help, How-To and FAQs: In depth information about many topics.\n",
      "Tablets, phones and eReaders How-To: Using tablets, Kindle, Nook, cell phone, and other mobile devices and readers.\n",
      "Distributed Proofreaders welcomes new volunteers. This is the main source of new Project Gutenberg eBooks. Getting started is easy, and just a page a day will help!\n",
      "Fix and improve Project Gutenberg by reporting errors, bugs, typos, and suggesting changes.\n",
      "Record audiobooks with our friends at LibriVox.\n",
      "About Project Gutenberg.\n",
      "Donating to Project Gutenberg.\n",
      "Feeds of new eBooks.\n",
      "Linking to Project Gutenberg and roboting or crawling the site.\n",
      "Partners and affiliates.\n",
      "Permissions, copyright, licensing, and trademark information.\n",
      "What does free eBook (No Cost or Freedom?) mean?\n",
      "\n",
      "\n",
      "\n",
      "\n",
      "\n",
      "\n",
      "News feeds of new eBooks\n",
      "\n",
      "\n",
      "\n",
      "\n",
      "\n",
      "\n"
     ]
    }
   ],
   "source": [
    "##b print these \"li\"s out\n",
    "for li in bullet_points:\n",
    "    #inside of this loop you will be accessing each review\n",
    "    print(li.text)"
   ]
  },
  {
   "cell_type": "code",
   "execution_count": 11,
   "id": "731566df",
   "metadata": {
    "scrolled": true
   },
   "outputs": [
    {
     "data": {
      "text/plain": [
       "['Search and browse. By author, title, subject, language, type, popularity, and more.',\n",
       " 'Bookshelves of related eBooks.',\n",
       " 'Frequently downloaded: Top 100, or ranked by popularity.',\n",
       " 'Offline catalogs: handy eBook listings and metadata to consult offline.',\n",
       " 'Recently added. The latest new and updated eBooks.',\n",
       " 'Visit self.gutenberg.org for free eBooks by contemporary authors.',\n",
       " 'Frequently Asked Questions about Project Gutenberg.',\n",
       " 'Help, How-To and FAQs: In depth information about many topics.',\n",
       " 'Tablets, phones and eReaders How-To: Using tablets, Kindle, Nook, cell phone, and other mobile devices and readers.',\n",
       " 'Distributed Proofreaders welcomes new volunteers. This is the main source of new Project Gutenberg eBooks. Getting started is easy, and just a page a day will help!',\n",
       " 'Fix and improve Project Gutenberg by reporting errors, bugs, typos, and suggesting changes.',\n",
       " 'Record audiobooks with our friends at LibriVox.',\n",
       " 'About Project Gutenberg.',\n",
       " 'Donating to Project Gutenberg.',\n",
       " 'Feeds of new eBooks.',\n",
       " 'Linking to Project Gutenberg and roboting or crawling the site.',\n",
       " 'Partners and affiliates.',\n",
       " 'Permissions, copyright, licensing, and trademark information.',\n",
       " 'What does free eBook (No Cost or Freedom?) mean?',\n",
       " '\\n\\n',\n",
       " '\\n\\n',\n",
       " 'News feeds of new eBooks',\n",
       " '\\n\\n',\n",
       " '\\n\\n']"
      ]
     },
     "execution_count": 11,
     "metadata": {},
     "output_type": "execute_result"
    }
   ],
   "source": [
    "##c Save it into a list:\n",
    "bullet_points_text = []\n",
    "\n",
    "for li in bullet_points:\n",
    "    bullet_points_text.append(li.text)\n",
    "bullet_points_text"
   ]
  },
  {
   "cell_type": "code",
   "execution_count": 12,
   "id": "21dc279f",
   "metadata": {},
   "outputs": [
    {
     "data": {
      "text/plain": [
       "['Search and browse. By author, title, subject, language, type, popularity, and more.',\n",
       " 'Bookshelves of related eBooks.',\n",
       " 'Frequently downloaded: Top 100, or ranked by popularity.',\n",
       " 'Offline catalogs: handy eBook listings and metadata to consult offline.',\n",
       " 'Recently added. The latest new and updated eBooks.',\n",
       " 'Visit self.gutenberg.org for free eBooks by contemporary authors.',\n",
       " 'Frequently Asked Questions about Project Gutenberg.',\n",
       " 'Help, How-To and FAQs: In depth information about many topics.',\n",
       " 'Tablets, phones and eReaders How-To: Using tablets, Kindle, Nook, cell phone, and other mobile devices and readers.',\n",
       " 'Distributed Proofreaders welcomes new volunteers. This is the main source of new Project Gutenberg eBooks. Getting started is easy, and just a page a day will help!',\n",
       " 'Fix and improve Project Gutenberg by reporting errors, bugs, typos, and suggesting changes.',\n",
       " 'Record audiobooks with our friends at LibriVox.',\n",
       " 'About Project Gutenberg.',\n",
       " 'Donating to Project Gutenberg.',\n",
       " 'Feeds of new eBooks.',\n",
       " 'Linking to Project Gutenberg and roboting or crawling the site.',\n",
       " 'Partners and affiliates.',\n",
       " 'Permissions, copyright, licensing, and trademark information.',\n",
       " 'What does free eBook (No Cost or Freedom?) mean?',\n",
       " '\\n\\n',\n",
       " '\\n\\n',\n",
       " 'News feeds of new eBooks',\n",
       " '\\n\\n',\n",
       " '\\n\\n']"
      ]
     },
     "execution_count": 12,
     "metadata": {},
     "output_type": "execute_result"
    }
   ],
   "source": [
    "bullet_points_text0 = [li for li in bullet_points_text if li != \"\"]\n",
    "bullet_points_text0"
   ]
  },
  {
   "cell_type": "code",
   "execution_count": 13,
   "id": "5cd9773b",
   "metadata": {
    "scrolled": false
   },
   "outputs": [
    {
     "data": {
      "text/plain": [
       "['Search and browse. By author, title, subject, language, type, popularity, and more.',\n",
       " 'Bookshelves of related eBooks.',\n",
       " 'Frequently downloaded: Top 100, or ranked by popularity.',\n",
       " 'Offline catalogs: handy eBook listings and metadata to consult offline.',\n",
       " 'Recently added. The latest new and updated eBooks.',\n",
       " 'Visit self.gutenberg.org for free eBooks by contemporary authors.',\n",
       " 'Frequently Asked Questions about Project Gutenberg.',\n",
       " 'Help, How-To and FAQs: In depth information about many topics.',\n",
       " 'Tablets, phones and eReaders How-To: Using tablets, Kindle, Nook, cell phone, and other mobile devices and readers.',\n",
       " 'Distributed Proofreaders welcomes new volunteers. This is the main source of new Project Gutenberg eBooks. Getting started is easy, and just a page a day will help!',\n",
       " 'Fix and improve Project Gutenberg by reporting errors, bugs, typos, and suggesting changes.',\n",
       " 'Record audiobooks with our friends at LibriVox.',\n",
       " 'About Project Gutenberg.',\n",
       " 'Donating to Project Gutenberg.',\n",
       " 'Feeds of new eBooks.',\n",
       " 'Linking to Project Gutenberg and roboting or crawling the site.',\n",
       " 'Partners and affiliates.',\n",
       " 'Permissions, copyright, licensing, and trademark information.',\n",
       " 'What does free eBook (No Cost or Freedom?) mean?']"
      ]
     },
     "execution_count": 13,
     "metadata": {},
     "output_type": "execute_result"
    }
   ],
   "source": [
    "##delete the elements we do not need\n",
    "del bullet_points_text[-5:]\n",
    "bullet_points_text## the final list "
   ]
  },
  {
   "cell_type": "code",
   "execution_count": 14,
   "id": "b2562ac4",
   "metadata": {},
   "outputs": [],
   "source": [
    "#len(bullet_points_text)"
   ]
  },
  {
   "cell_type": "markdown",
   "id": "a1636e0f",
   "metadata": {},
   "source": [
    "### Part 2 "
   ]
  },
  {
   "cell_type": "markdown",
   "id": "b0af7df0",
   "metadata": {},
   "source": [
    "1.Write an API query that returns up to 200 results of songs either created by or featuring an artist of your choice. Convert the query response to a dataframe."
   ]
  },
  {
   "cell_type": "code",
   "execution_count": 15,
   "id": "46bf0348",
   "metadata": {},
   "outputs": [],
   "source": [
    "### Building a query\n",
    "    # 1 iTunes API: https://itunes.apple.com/\n",
    "    # 2 Add artist to the query: https://itunes.apple.com/search?term=taylor+swift\n",
    "    # 3 Add songs to the query: https://itunes.apple.com/search?term=taylor+swift&entity=song\n",
    "    # 4 Add number of the songs to the query: https://itunes.apple.com/search?term=taylor+swift&entity=song&limit=200\n",
    "### requests.get()\n",
    "r = requests.get(\"https://itunes.apple.com/search?term=taylor+swift&entity=song&limit=200\")\n",
    "# Examine response in formatted JSON\n",
    "r0=r.json()\n",
    "#r0"
   ]
  },
  {
   "cell_type": "code",
   "execution_count": 16,
   "id": "74f5c0ad",
   "metadata": {},
   "outputs": [],
   "source": [
    "##Process results into a dataframe\n",
    "# Import pandas\n",
    "import pandas as pd"
   ]
  },
  {
   "cell_type": "code",
   "execution_count": 17,
   "id": "6851e00f",
   "metadata": {},
   "outputs": [],
   "source": [
    "r2=r0.get(\"results\")\n",
    "#r2"
   ]
  },
  {
   "cell_type": "code",
   "execution_count": 18,
   "id": "4ee5715b",
   "metadata": {
    "scrolled": true
   },
   "outputs": [
    {
     "data": {
      "text/html": [
       "<div>\n",
       "<style scoped>\n",
       "    .dataframe tbody tr th:only-of-type {\n",
       "        vertical-align: middle;\n",
       "    }\n",
       "\n",
       "    .dataframe tbody tr th {\n",
       "        vertical-align: top;\n",
       "    }\n",
       "\n",
       "    .dataframe thead th {\n",
       "        text-align: right;\n",
       "    }\n",
       "</style>\n",
       "<table border=\"1\" class=\"dataframe\">\n",
       "  <thead>\n",
       "    <tr style=\"text-align: right;\">\n",
       "      <th></th>\n",
       "      <th>wrapperType</th>\n",
       "      <th>kind</th>\n",
       "      <th>artistId</th>\n",
       "      <th>collectionId</th>\n",
       "      <th>trackId</th>\n",
       "      <th>artistName</th>\n",
       "      <th>collectionName</th>\n",
       "      <th>trackName</th>\n",
       "      <th>collectionCensoredName</th>\n",
       "      <th>trackCensoredName</th>\n",
       "      <th>...</th>\n",
       "      <th>trackExplicitness</th>\n",
       "      <th>discCount</th>\n",
       "      <th>discNumber</th>\n",
       "      <th>trackCount</th>\n",
       "      <th>trackNumber</th>\n",
       "      <th>trackTimeMillis</th>\n",
       "      <th>country</th>\n",
       "      <th>currency</th>\n",
       "      <th>primaryGenreName</th>\n",
       "      <th>isStreamable</th>\n",
       "    </tr>\n",
       "  </thead>\n",
       "  <tbody>\n",
       "    <tr>\n",
       "      <th>0</th>\n",
       "      <td>track</td>\n",
       "      <td>song</td>\n",
       "      <td>159260351</td>\n",
       "      <td>1440913923</td>\n",
       "      <td>1440914010</td>\n",
       "      <td>Taylor Swift</td>\n",
       "      <td>Taylor Swift (Bonus Track Version)</td>\n",
       "      <td>Our Song</td>\n",
       "      <td>Taylor Swift (Bonus Track Version)</td>\n",
       "      <td>Our Song</td>\n",
       "      <td>...</td>\n",
       "      <td>notExplicit</td>\n",
       "      <td>1</td>\n",
       "      <td>1</td>\n",
       "      <td>15</td>\n",
       "      <td>11</td>\n",
       "      <td>201107</td>\n",
       "      <td>USA</td>\n",
       "      <td>USD</td>\n",
       "      <td>Country</td>\n",
       "      <td>True</td>\n",
       "    </tr>\n",
       "  </tbody>\n",
       "</table>\n",
       "<p>1 rows × 31 columns</p>\n",
       "</div>"
      ],
      "text/plain": [
       "  wrapperType  kind   artistId  collectionId     trackId    artistName  \\\n",
       "0       track  song  159260351    1440913923  1440914010  Taylor Swift   \n",
       "\n",
       "                       collectionName trackName  \\\n",
       "0  Taylor Swift (Bonus Track Version)  Our Song   \n",
       "\n",
       "               collectionCensoredName trackCensoredName  ...  \\\n",
       "0  Taylor Swift (Bonus Track Version)          Our Song  ...   \n",
       "\n",
       "  trackExplicitness discCount discNumber trackCount trackNumber  \\\n",
       "0       notExplicit         1          1         15          11   \n",
       "\n",
       "  trackTimeMillis country  currency  primaryGenreName isStreamable  \n",
       "0          201107     USA       USD           Country         True  \n",
       "\n",
       "[1 rows x 31 columns]"
      ]
     },
     "execution_count": 18,
     "metadata": {},
     "output_type": "execute_result"
    }
   ],
   "source": [
    "r1=r0.get(\"results\")[0]\n",
    "df = pd.DataFrame([r1])\n",
    "df "
   ]
  },
  {
   "cell_type": "code",
   "execution_count": 19,
   "id": "20587c0f",
   "metadata": {},
   "outputs": [],
   "source": [
    "##Convert the query response to a dataframe\n",
    "pd.DataFrame(r2)\n",
    "pd.DataFrame.from_dict(r2)\n",
    "r3=pd.DataFrame.from_records(r2)\n",
    "#r_final=r3.drop(columns=[\"contentAdvisoryRating\",\"collectionArtistId\",\"collectionArtistName\",\"collectionArtistViewUrl\"])##drop extra columns \n",
    "pd.set_option(\"display.max_columns\",None)##show all the columns\n",
    "pd.set_option(\"display.max_rows\",None)##show all the rows\n",
    "#r_final\n",
    "#r3"
   ]
  },
  {
   "cell_type": "markdown",
   "id": "6ba45b41",
   "metadata": {},
   "source": [
    "2.Examine the data and describe the following attributes as binary, discrete, or continuous. Also describe them as qualitative (specify whether nominal or ordinal) or quantitative (specify whether interval or ratio). Some cases may have more than one interpretation, so briefly indicate your reasoning if you think there may be some ambiguity."
   ]
  },
  {
   "cell_type": "markdown",
   "id": "d4f727ab",
   "metadata": {},
   "source": [
    "(a) collectionId:\n",
    "discrete and qualitative(nominal variable) \n",
    "(b) trackPrice：\n",
    "continuous and quantitative(ratio variable）\n",
    "(c) trackTimeMillis：\n",
    "continuous and quantitative(ratio variable)\n",
    "(d) primaryGenreName：\n",
    "discrete and qualitative(nominal variable)\n",
    "(e) contentAdvisoryRating：\n",
    "discrete and qualitative(nominal variable)\n",
    "(f) isStreamable：\n",
    "binary and qualitative(nominal variable）"
   ]
  },
  {
   "cell_type": "markdown",
   "id": "1ee69922",
   "metadata": {},
   "source": [
    "3.Can you think of a situation in which identification numbers would be useful for prediction? Explain.\n",
    "Identification numbers would be useful for predicting a person's behaviour based on his/her historical behaviour."
   ]
  },
  {
   "cell_type": "markdown",
   "id": "bc7dbebd",
   "metadata": {},
   "source": [
    "4.Complete the following:\n",
    "(a) Display the number of missing values by variable.\n",
    "(b) Display the average trackPrice.\n",
    "(c) Display the total number of songs corresponding to each category of artistId."
   ]
  },
  {
   "cell_type": "code",
   "execution_count": 20,
   "id": "0f3a85e8",
   "metadata": {
    "scrolled": true
   },
   "outputs": [
    {
     "name": "stdout",
     "output_type": "stream",
     "text": [
      "wrapperType                  0\n",
      "kind                         0\n",
      "artistId                     0\n",
      "collectionId                 0\n",
      "trackId                      0\n",
      "artistName                   0\n",
      "collectionName               0\n",
      "trackName                    0\n",
      "collectionCensoredName       0\n",
      "trackCensoredName            0\n",
      "artistViewUrl                0\n",
      "collectionViewUrl            0\n",
      "trackViewUrl                 0\n",
      "previewUrl                   0\n",
      "artworkUrl30                 0\n",
      "artworkUrl60                 0\n",
      "artworkUrl100                0\n",
      "collectionPrice              0\n",
      "trackPrice                   0\n",
      "releaseDate                  0\n",
      "collectionExplicitness       0\n",
      "trackExplicitness            0\n",
      "discCount                    0\n",
      "discNumber                   0\n",
      "trackCount                   0\n",
      "trackNumber                  0\n",
      "trackTimeMillis              0\n",
      "country                      0\n",
      "currency                     0\n",
      "primaryGenreName             0\n",
      "isStreamable                 0\n",
      "contentAdvisoryRating      194\n",
      "collectionArtistId         195\n",
      "collectionArtistName       195\n",
      "collectionArtistViewUrl    199\n",
      "dtype: int64\n"
     ]
    }
   ],
   "source": [
    "##(a) Display the number of missing values by variable.\n",
    "print(r3.isnull().sum())"
   ]
  },
  {
   "cell_type": "code",
   "execution_count": 21,
   "id": "8081ff2a",
   "metadata": {},
   "outputs": [
    {
     "data": {
      "text/plain": [
       "1.2550999999999979"
      ]
     },
     "execution_count": 21,
     "metadata": {},
     "output_type": "execute_result"
    }
   ],
   "source": [
    "#(b) Display the average trackPrice.\n",
    "r3[\"trackPrice\"].mean()"
   ]
  },
  {
   "cell_type": "code",
   "execution_count": 22,
   "id": "eda7d489",
   "metadata": {
    "scrolled": true
   },
   "outputs": [
    {
     "data": {
      "text/html": [
       "<div>\n",
       "<style scoped>\n",
       "    .dataframe tbody tr th:only-of-type {\n",
       "        vertical-align: middle;\n",
       "    }\n",
       "\n",
       "    .dataframe tbody tr th {\n",
       "        vertical-align: top;\n",
       "    }\n",
       "\n",
       "    .dataframe thead th {\n",
       "        text-align: right;\n",
       "    }\n",
       "</style>\n",
       "<table border=\"1\" class=\"dataframe\">\n",
       "  <thead>\n",
       "    <tr style=\"text-align: right;\">\n",
       "      <th></th>\n",
       "      <th>trackName</th>\n",
       "    </tr>\n",
       "    <tr>\n",
       "      <th>artistId</th>\n",
       "      <th></th>\n",
       "    </tr>\n",
       "  </thead>\n",
       "  <tbody>\n",
       "    <tr>\n",
       "      <th>205322</th>\n",
       "      <td>1</td>\n",
       "    </tr>\n",
       "    <tr>\n",
       "      <th>1855044</th>\n",
       "      <td>1</td>\n",
       "    </tr>\n",
       "    <tr>\n",
       "      <th>3496236</th>\n",
       "      <td>3</td>\n",
       "    </tr>\n",
       "    <tr>\n",
       "      <th>5118375</th>\n",
       "      <td>1</td>\n",
       "    </tr>\n",
       "    <tr>\n",
       "      <th>17547055</th>\n",
       "      <td>1</td>\n",
       "    </tr>\n",
       "    <tr>\n",
       "      <th>82794517</th>\n",
       "      <td>1</td>\n",
       "    </tr>\n",
       "    <tr>\n",
       "      <th>127654249</th>\n",
       "      <td>1</td>\n",
       "    </tr>\n",
       "    <tr>\n",
       "      <th>159260351</th>\n",
       "      <td>175</td>\n",
       "    </tr>\n",
       "    <tr>\n",
       "      <th>183313439</th>\n",
       "      <td>1</td>\n",
       "    </tr>\n",
       "    <tr>\n",
       "      <th>212784894</th>\n",
       "      <td>1</td>\n",
       "    </tr>\n",
       "    <tr>\n",
       "      <th>216425159</th>\n",
       "      <td>2</td>\n",
       "    </tr>\n",
       "    <tr>\n",
       "      <th>218352633</th>\n",
       "      <td>1</td>\n",
       "    </tr>\n",
       "    <tr>\n",
       "      <th>259700865</th>\n",
       "      <td>1</td>\n",
       "    </tr>\n",
       "    <tr>\n",
       "      <th>283788135</th>\n",
       "      <td>1</td>\n",
       "    </tr>\n",
       "    <tr>\n",
       "      <th>307939435</th>\n",
       "      <td>1</td>\n",
       "    </tr>\n",
       "    <tr>\n",
       "      <th>316296821</th>\n",
       "      <td>1</td>\n",
       "    </tr>\n",
       "    <tr>\n",
       "      <th>396780466</th>\n",
       "      <td>1</td>\n",
       "    </tr>\n",
       "    <tr>\n",
       "      <th>451255867</th>\n",
       "      <td>1</td>\n",
       "    </tr>\n",
       "    <tr>\n",
       "      <th>515261564</th>\n",
       "      <td>1</td>\n",
       "    </tr>\n",
       "    <tr>\n",
       "      <th>566639264</th>\n",
       "      <td>1</td>\n",
       "    </tr>\n",
       "    <tr>\n",
       "      <th>670791732</th>\n",
       "      <td>1</td>\n",
       "    </tr>\n",
       "    <tr>\n",
       "      <th>973181994</th>\n",
       "      <td>1</td>\n",
       "    </tr>\n",
       "    <tr>\n",
       "      <th>1505498113</th>\n",
       "      <td>1</td>\n",
       "    </tr>\n",
       "  </tbody>\n",
       "</table>\n",
       "</div>"
      ],
      "text/plain": [
       "            trackName\n",
       "artistId             \n",
       "205322              1\n",
       "1855044             1\n",
       "3496236             3\n",
       "5118375             1\n",
       "17547055            1\n",
       "82794517            1\n",
       "127654249           1\n",
       "159260351         175\n",
       "183313439           1\n",
       "212784894           1\n",
       "216425159           2\n",
       "218352633           1\n",
       "259700865           1\n",
       "283788135           1\n",
       "307939435           1\n",
       "316296821           1\n",
       "396780466           1\n",
       "451255867           1\n",
       "515261564           1\n",
       "566639264           1\n",
       "670791732           1\n",
       "973181994           1\n",
       "1505498113          1"
      ]
     },
     "execution_count": 22,
     "metadata": {},
     "output_type": "execute_result"
    }
   ],
   "source": [
    "##(c) Display the total number of songs corresponding to each category of artistId.\n",
    "r3.groupby(\"artistId\")[[\"trackName\"]].count()##“trackName”refer to the name of the song"
   ]
  },
  {
   "cell_type": "markdown",
   "id": "d71269d1",
   "metadata": {},
   "source": [
    "5.Define a function called play time() that accepts trackTimeMillis as an argument and returns a tuple of integers representing the track’s play time as (minutes, seconds)."
   ]
  },
  {
   "cell_type": "code",
   "execution_count": 23,
   "id": "6877b81e",
   "metadata": {},
   "outputs": [],
   "source": [
    "def play_time(trackTimeMillis):\n",
    "    \"\"\"\n",
    "    Argument: trackTimeMillis\n",
    "    Return: a tuple of integers representing the track’s play time as (minutes, seconds)\n",
    "    \"\"\"\n",
    "    ##import needed libraries\n",
    "    from pandas.core.frame import DataFrame\n",
    "    import datetime\n",
    "    import time\n",
    "    time0=[]##initialize null list \n",
    "    ##Convert milliseconds to seconds\n",
    "    for trackTimeMilli in trackTimeMillis:\n",
    "        time0.append(trackTimeMilli/1000)\n",
    "        ##initialize null list\n",
    "        t=[]\n",
    "        b=[]\n",
    "        c=[]\n",
    "        ##Convert seconds to time format\n",
    "        for time in time0:\n",
    "            m, s = divmod(time, 60)\n",
    "            h, m = divmod(m, 60)\n",
    "            t.append(\"%02d:%02d:%02d\" % (h, m, s))\n",
    "        ##put the time data into a df\n",
    "        data_t=DataFrame(t)\n",
    "        ##Convert seconds to time format\n",
    "        data_t[0] = pd.to_datetime(data_t[0], format='%H:%M:%S')\n",
    "        ##Splits the hour/minute/second in the time format\n",
    "        data = pd.DataFrame()\n",
    "        data['hour'] =data_t[0].dt.hour\n",
    "        data['minute'] =data_t[0].dt.minute\n",
    "        data['second'] = data_t[0].dt.second\n",
    "        ##put the minute into the list\n",
    "        for minute in data[\"minute\"]:\n",
    "            b.append(minute)\n",
    "        ##put the second into the list\n",
    "        for second in data[\"second\"]:\n",
    "            c.append(second)\n",
    "        ##put the two lists into a tuple \n",
    "        list0 = list(zip(b,c))\n",
    "        tuple0=tuple(list0)\n",
    "    ## end \n",
    "    return tuple0"
   ]
  },
  {
   "cell_type": "code",
   "execution_count": 24,
   "id": "895bf014",
   "metadata": {},
   "outputs": [],
   "source": [
    "#play_time(r3[\"trackTimeMillis\"])"
   ]
  },
  {
   "cell_type": "markdown",
   "id": "a27f814a",
   "metadata": {},
   "source": [
    "6.Call the function play time() to display the play time in minutes and seconds for the first five songs from the dataset that you created with the query results."
   ]
  },
  {
   "cell_type": "code",
   "execution_count": 25,
   "id": "dcc9796c",
   "metadata": {},
   "outputs": [
    {
     "data": {
      "text/plain": [
       "((3, 21), (2, 53), (3, 23), (4, 2), (3, 33))"
      ]
     },
     "execution_count": 25,
     "metadata": {},
     "output_type": "execute_result"
    }
   ],
   "source": [
    "## for the first five songs from r3\n",
    "play_time(r3[\"trackTimeMillis\"][:5])"
   ]
  }
 ],
 "metadata": {
  "kernelspec": {
   "display_name": "Python 3",
   "language": "python",
   "name": "python3"
  },
  "language_info": {
   "codemirror_mode": {
    "name": "ipython",
    "version": 3
   },
   "file_extension": ".py",
   "mimetype": "text/x-python",
   "name": "python",
   "nbconvert_exporter": "python",
   "pygments_lexer": "ipython3",
   "version": "3.8.8"
  }
 },
 "nbformat": 4,
 "nbformat_minor": 5
}
